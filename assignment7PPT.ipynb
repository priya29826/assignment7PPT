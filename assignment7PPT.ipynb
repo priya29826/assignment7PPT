{
  "nbformat": 4,
  "nbformat_minor": 0,
  "metadata": {
    "colab": {
      "provenance": []
    },
    "kernelspec": {
      "name": "python3",
      "display_name": "Python 3"
    },
    "language_info": {
      "name": "python"
    }
  },
  "cells": [
    {
      "cell_type": "markdown",
      "source": [
        "<aside>\n",
        "💡 **Question 1**\n",
        "\n",
        "Given two strings s and t, *determine if they are isomorphic*.\n",
        "\n",
        "Two strings s and t are isomorphic if the characters in s can be replaced to get t.\n",
        "\n",
        "All occurrences of a character must be replaced with another character while preserving the order of characters. No two characters may map to the same character, but a character may map to itself.\n",
        "\n",
        "**Example 1:**\n",
        "\n",
        "**Input:** s = \"egg\", t = \"add\"\n",
        "\n",
        "**Output:** true\n",
        "\n",
        "</aside>"
      ],
      "metadata": {
        "id": "v8XUMSYixFm8"
      }
    },
    {
      "cell_type": "code",
      "source": [
        "def isIsomorphic(s,t):\n",
        "  if len(s)!=len(t):\n",
        "    return False\n",
        "\n",
        "  s_to_t={}\n",
        "  t_to_s={}\n",
        "   \n",
        "  for i in range(len(s)):\n",
        "    if s[i] in s_to_t and s_to_t[s[i]]!=t[i]:\n",
        "      return False\n",
        "    if t[i] in t_to_s and t_to_s[t[i]]!=s[i]:\n",
        "      return False\n",
        "\n",
        "    s_to_t[s[i]]=t[i]\n",
        "    t_to_s[t[i]]=s[i]\n",
        "  return True\n",
        "\n",
        "s = \"egg\"\n",
        "t = \"add\"\n",
        "print(isIsomorphic(s,t))"
      ],
      "metadata": {
        "colab": {
          "base_uri": "https://localhost:8080/"
        },
        "id": "9HZISjIZxJNX",
        "outputId": "63ef1047-c144-4998-c6e5-3aa7aebad908"
      },
      "execution_count": 10,
      "outputs": [
        {
          "output_type": "stream",
          "name": "stdout",
          "text": [
            "True\n"
          ]
        }
      ]
    },
    {
      "cell_type": "markdown",
      "source": [
        "<aside>\n",
        "💡 **Question 2**\n",
        "\n",
        "Given a string num which represents an integer, return true *if* num *is a **strobogrammatic number***.\n",
        "\n",
        "A **strobogrammatic number** is a number that looks the same when rotated 180 degrees (looked at upside down).\n",
        "\n",
        "**Example 1:**\n",
        "\n",
        "**Input:** num = \"69\"\n",
        "\n",
        "**Output:**\n",
        "\n",
        "true\n",
        "\n",
        "</aside>"
      ],
      "metadata": {
        "id": "9bxGDd9WvLF-"
      }
    },
    {
      "cell_type": "code",
      "source": [
        "def isStrobogrammatic(num):\n",
        "  rotated_num=\" \"\n",
        "  for c in reversed(num):\n",
        "    if c=='0' or c=='1' or c=='8':\n",
        "      rotated_num+=c\n",
        "    elif c=='6':\n",
        "      rotated_num+='9'\n",
        "      return True\n",
        "    elif c=='9':\n",
        "      rotated_num+='6'\n",
        "      return True\n",
        "    else:\n",
        "      return False\n",
        "\n",
        "num = \"69\"\n",
        "print( isStrobogrammatic(num))\n"
      ],
      "metadata": {
        "colab": {
          "base_uri": "https://localhost:8080/"
        },
        "id": "fyLSG-IKvOdu",
        "outputId": "a344d0e6-4917-47d4-8e36-2e8200f722f6"
      },
      "execution_count": 8,
      "outputs": [
        {
          "output_type": "stream",
          "name": "stdout",
          "text": [
            "True\n"
          ]
        }
      ]
    },
    {
      "cell_type": "markdown",
      "source": [
        "<aside>\n",
        "💡 **Question 3**\n",
        "\n",
        "Given two non-negative integers, num1 and num2 represented as string, return *the sum of* num1 *and* num2 *as a string*.\n",
        "\n",
        "You must solve the problem without using any built-in library for handling large integers (such as BigInteger). You must also not convert the inputs to integers directly.\n",
        "\n",
        "**Example 1:**\n",
        "\n",
        "**Input:** num1 = \"11\", num2 = \"123\"\n",
        "\n",
        "**Output:**\n",
        "\n",
        "\"134\"\n",
        "\n",
        "</aside>\n",
        "\n"
      ],
      "metadata": {
        "id": "brxExm7kzoQE"
      }
    },
    {
      "cell_type": "code",
      "source": [
        "def addStrings(num1,num2):\n",
        "  result=\" \"\n",
        "  carry=0\n",
        "  i=len(num1)-1\n",
        "  j=len(num2)-1\n",
        "\n",
        "  while i>=0 or j>=0 or carry: \n",
        "    digit1=ord(num1[i])-ord('0') if i>=0 else 0\n",
        "    digit2=ord(num2[i])-ord('0') if j>=0 else 0\n",
        "\n",
        "    summation = digit1 + digit2 + carry\n",
        "    carry=summation//10\n",
        "    result=str(summation%10)+result\n",
        "\n",
        "    i-=1\n",
        "    j-=1\n",
        "\n",
        "  return result\n",
        "\n",
        "num1 = \"11\"\n",
        "num2 = \"123\"\n",
        "print(addStrings(num1,num2))\n"
      ],
      "metadata": {
        "colab": {
          "base_uri": "https://localhost:8080/"
        },
        "id": "1FENkfwYzwQn",
        "outputId": "a9d41996-317e-4436-959c-f8750ae78eae"
      },
      "execution_count": 14,
      "outputs": [
        {
          "output_type": "stream",
          "name": "stdout",
          "text": [
            "323 \n"
          ]
        }
      ]
    },
    {
      "cell_type": "markdown",
      "source": [
        "<aside>\n",
        "💡 **Question 4**\n",
        "\n",
        "Given a string s, reverse the order of characters in each word within a sentence while still preserving whitespace and initial word order.\n",
        "\n",
        "**Example 1:**\n",
        "\n",
        "**Input:** s = \"Let's take LeetCode contest\"\n",
        "\n",
        "**Output:** \"s'teL ekat edoCteeL tsetnoc\"\n",
        "\n",
        "</aside>"
      ],
      "metadata": {
        "id": "cL0EgzJNsskD"
      }
    },
    {
      "cell_type": "code",
      "source": [
        "def reversed_words(s):\n",
        "  words=s.split()\n",
        "  reversed_words=[word[::-1] for word in words]\n",
        "  reversed_sentence=' '.join(reversed_words)\n",
        "  return reversed_sentence\n",
        "\n",
        "s = \"Let's take LeetCode contest\"\n",
        "reversed_sentence=reversed_words(s)\n",
        "print(reversed_sentence)\n"
      ],
      "metadata": {
        "colab": {
          "base_uri": "https://localhost:8080/"
        },
        "id": "aMrG45j8gGmH",
        "outputId": "402adfe5-c0cf-49de-f0d3-31446cbfba09"
      },
      "execution_count": 5,
      "outputs": [
        {
          "output_type": "stream",
          "name": "stdout",
          "text": [
            "s'teL ekat edoCteeL tsetnoc\n"
          ]
        }
      ]
    },
    {
      "cell_type": "markdown",
      "source": [
        "<aside>\n",
        "💡 **Question 6**\n",
        "\n",
        "Given two strings s and goal, return true *if and only if* s *can become* goal *after some number of **shifts** on* s.\n",
        "\n",
        "A **shift** on s consists of moving the leftmost character of s to the rightmost position.\n",
        "\n",
        "- For example, if s = \"abcde\", then it will be \"bcdea\" after one shift.\n",
        "\n",
        "**Example 1:**\n",
        "\n",
        "**Input:** s = \"abcde\", goal = \"cdeab\"\n",
        "\n",
        "**Output:**\n",
        "\n",
        "true\n",
        "\n",
        "</aside>"
      ],
      "metadata": {
        "id": "975n1-DhrH2P"
      }
    },
    {
      "cell_type": "code",
      "source": [
        "def can_shift(s,goal):\n",
        "  if len(s)!=len(goal):\n",
        "    return False\n",
        "\n",
        "  concatenated=s+s\n",
        "  return goal in concatenated\n",
        "\n",
        "s = \"abcde\"\n",
        "goal = \"cdeab\"\n",
        "print( can_shift(s,goal))"
      ],
      "metadata": {
        "colab": {
          "base_uri": "https://localhost:8080/"
        },
        "id": "I4BZxBLprIs7",
        "outputId": "3c66a547-b1f6-42f0-d945-8a33e9274f0b"
      },
      "execution_count": 2,
      "outputs": [
        {
          "output_type": "stream",
          "name": "stdout",
          "text": [
            "True\n"
          ]
        }
      ]
    },
    {
      "cell_type": "markdown",
      "source": [
        "<aside>\n",
        "💡 **Question 7**\n",
        "\n",
        "Given two strings s and t, return true *if they are equal when both are typed into empty text editors*. '#' means a backspace character.\n",
        "\n",
        "Note that after backspacing an empty text, the text will continue empty.\n",
        "\n",
        "**Example 1:**\n",
        "\n",
        "**Input:** s = \"ab#c\", t = \"ad#c\"\n",
        "\n",
        "**Output:** true\n",
        "\n",
        "**Explanation:**\n",
        "\n",
        "Both s and t become \"ac\".\n",
        "\n",
        "</aside>"
      ],
      "metadata": {
        "id": "GqejQrT05ESN"
      }
    },
    {
      "cell_type": "code",
      "source": [
        "def process_string(string):\n",
        "  processed=\" \"\n",
        "  for char in string:\n",
        "    if char != '#':\n",
        "      processed+= char\n",
        "    elif processed:\n",
        "      processed=processed[:-1]\n",
        "    return processed\n",
        "\n",
        "def compare_stings(s,t):\n",
        "  return process_string(s)==process_string(t)\n",
        "\n",
        "s = \"ab#c\"\n",
        "t = \"ad#c\"\n",
        "print(compare_stings(s,t))"
      ],
      "metadata": {
        "colab": {
          "base_uri": "https://localhost:8080/"
        },
        "id": "sXbvwMPksWqT",
        "outputId": "c343099b-f230-446c-ce56-50b700973737"
      },
      "execution_count": 16,
      "outputs": [
        {
          "output_type": "stream",
          "name": "stdout",
          "text": [
            "True\n"
          ]
        }
      ]
    },
    {
      "cell_type": "markdown",
      "source": [
        "Q.5 Given a string s and an integer k, reverse the first k characters for every 2k characters counting from the start of the string.\n",
        "\n",
        "If there are fewer than k characters left, reverse all of them. If there are less than 2k but greater than or equal to k characters, then reverse the first k characters and leave the other as original.\n",
        "\n",
        "**Example 1:**\n",
        "\n",
        "**Input:** s = \"abcdefg\", k = 2\n",
        "\n",
        "**Output:**\n",
        "\n",
        "\"bacdfeg\""
      ],
      "metadata": {
        "id": "BMIr-hkx7Eo0"
      }
    },
    {
      "cell_type": "code",
      "source": [
        "def reverse_string(s,k):\n",
        "  char_list=list(s)\n",
        "  n= len(char_list)\n",
        "\n",
        "  for i in range(0,n,2*k):\n",
        "    char_list[i:i+k]=reversed(char_list[i:i+k])\n",
        "\n",
        "  return \"\".join(char_list)\n",
        "\n",
        "s = \"abcdefg\"\n",
        "k = 2\n",
        "result=reverse_string(s,k)\n",
        "print(result)"
      ],
      "metadata": {
        "colab": {
          "base_uri": "https://localhost:8080/"
        },
        "id": "-lx3mlfG6bj5",
        "outputId": "1607a5ec-27ee-4100-82ac-8cd28235e219"
      },
      "execution_count": 18,
      "outputs": [
        {
          "output_type": "stream",
          "name": "stdout",
          "text": [
            "bacdfeg\n"
          ]
        }
      ]
    },
    {
      "cell_type": "code",
      "source": [],
      "metadata": {
        "id": "mG-lQRKJ7yNU"
      },
      "execution_count": null,
      "outputs": []
    }
  ]
}